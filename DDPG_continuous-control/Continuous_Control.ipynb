{
 "cells": [
  {
   "cell_type": "markdown",
   "metadata": {},
   "source": [
    "# Continuous Control\n",
    "\n",
    "---\n",
    "\n",
    "In this notebook, you will learn how to use the Unity ML-Agents environment for the second project of the [Deep Reinforcement Learning Nanodegree](https://www.udacity.com/course/deep-reinforcement-learning-nanodegree--nd893) program.\n",
    "\n",
    "### Start the Environment\n",
    "\n",
    "We begin by importing the necessary packages.  If the code cell below returns an error, please revisit the project instructions to double-check that you have installed [Unity ML-Agents](https://github.com/Unity-Technologies/ml-agents/blob/master/docs/Installation.md) and [NumPy](http://www.numpy.org/)."
   ]
  },
  {
   "cell_type": "code",
   "execution_count": 1,
   "metadata": {},
   "outputs": [],
   "source": [
    "# Imports\n",
    "\n",
    "from unityagents import UnityEnvironment\n",
    "\n",
    "import os\n",
    "import torch as T\n",
    "import torch.nn as nn\n",
    "import torch.nn.functional as F\n",
    "import torch.optim as optim\n",
    "import numpy as np\n",
    "import matplotlib.pyplot as plt\n",
    "\n",
    "from ddpg_agent import Agent\n",
    "\n",
    "from collections import deque\n",
    "\n",
    "%matplotlib inline"
   ]
  },
  {
   "cell_type": "code",
   "execution_count": 2,
   "metadata": {},
   "outputs": [
    {
     "name": "stderr",
     "output_type": "stream",
     "text": [
      "INFO:unityagents:\n",
      "'Academy' started successfully!\n",
      "Unity Academy name: Academy\n",
      "        Number of Brains: 1\n",
      "        Number of External Brains : 1\n",
      "        Lesson number : 0\n",
      "        Reset Parameters :\n",
      "\t\tgoal_speed -> 1.0\n",
      "\t\tgoal_size -> 5.0\n",
      "Unity brain name: ReacherBrain\n",
      "        Number of Visual Observations (per agent): 0\n",
      "        Vector Observation space type: continuous\n",
      "        Vector Observation space size (per agent): 33\n",
      "        Number of stacked Vector Observation: 1\n",
      "        Vector Action space type: continuous\n",
      "        Vector Action space size (per agent): 4\n",
      "        Vector Action descriptions: , , , \n"
     ]
    }
   ],
   "source": [
    "env = UnityEnvironment(file_name='Data/Reacher_Linux/Reacher.x86_64')"
   ]
  },
  {
   "cell_type": "code",
   "execution_count": 3,
   "metadata": {},
   "outputs": [],
   "source": [
    "# get the default brain\n",
    "brain_name = env.brain_names[0]\n",
    "brain = env.brains[brain_name]\n",
    "env_info = env.reset(train_mode=True)[brain_name]"
   ]
  },
  {
   "cell_type": "code",
   "execution_count": 4,
   "metadata": {},
   "outputs": [
    {
     "name": "stdout",
     "output_type": "stream",
     "text": [
      "Episode: 1\tAverage score: 0.82\tScore: 0.82\n",
      "Episode: 2\tAverage score: 0.84\tScore: 0.86\n",
      "Episode: 3\tAverage score: 0.83\tScore: 0.80\n",
      "Episode: 4\tAverage score: 0.79\tScore: 0.67\n",
      "Episode: 5\tAverage score: 0.78\tScore: 0.77\n",
      "Episode: 6\tAverage score: 0.86\tScore: 1.23\n",
      "Episode: 7\tAverage score: 0.89\tScore: 1.08\n",
      "Episode: 8\tAverage score: 0.93\tScore: 1.17\n",
      "Episode: 9\tAverage score: 0.95\tScore: 1.12\n",
      "Episode: 10\tAverage score: 0.97\tScore: 1.14\n",
      "Episode: 11\tAverage score: 0.98\tScore: 1.08\n",
      "Episode: 12\tAverage score: 0.99\tScore: 1.12\n",
      "Episode: 13\tAverage score: 1.00\tScore: 1.09\n",
      "Episode: 14\tAverage score: 1.01\tScore: 1.16\n",
      "Episode: 15\tAverage score: 1.02\tScore: 1.11\n",
      "Episode: 16\tAverage score: 1.02\tScore: 1.06\n",
      "Episode: 17\tAverage score: 1.03\tScore: 1.17\n",
      "Episode: 18\tAverage score: 1.05\tScore: 1.41\n",
      "Episode: 19\tAverage score: 1.09\tScore: 1.88\n",
      "Episode: 20\tAverage score: 1.11\tScore: 1.51\n",
      "Episode: 21\tAverage score: 1.14\tScore: 1.60\n",
      "Episode: 22\tAverage score: 1.16\tScore: 1.60\n",
      "Episode: 23\tAverage score: 1.18\tScore: 1.65\n",
      "Episode: 24\tAverage score: 1.20\tScore: 1.63\n",
      "Episode: 25\tAverage score: 1.22\tScore: 1.74\n",
      "Episode: 26\tAverage score: 1.24\tScore: 1.74\n",
      "Episode: 27\tAverage score: 1.26\tScore: 1.71\n",
      "Episode: 28\tAverage score: 1.27\tScore: 1.75\n",
      "Episode: 29\tAverage score: 1.29\tScore: 1.84\n",
      "Episode: 30\tAverage score: 1.31\tScore: 1.89\n",
      "Episode: 31\tAverage score: 1.33\tScore: 1.91\n",
      "Episode: 32\tAverage score: 1.35\tScore: 1.74\n",
      "Episode: 33\tAverage score: 1.38\tScore: 2.46\n",
      "Episode: 34\tAverage score: 1.40\tScore: 2.12\n",
      "Episode: 35\tAverage score: 1.42\tScore: 2.16\n",
      "Episode: 36\tAverage score: 1.45\tScore: 2.47\n",
      "Episode: 37\tAverage score: 1.48\tScore: 2.46\n",
      "Episode: 38\tAverage score: 1.50\tScore: 2.12\n",
      "Episode: 39\tAverage score: 1.52\tScore: 2.26\n",
      "Episode: 40\tAverage score: 1.53\tScore: 2.09\n",
      "Episode: 41\tAverage score: 1.54\tScore: 1.94\n",
      "Episode: 42\tAverage score: 1.56\tScore: 2.50\n",
      "Episode: 43\tAverage score: 1.57\tScore: 1.93\n",
      "Episode: 44\tAverage score: 1.58\tScore: 1.86\n",
      "Episode: 45\tAverage score: 1.59\tScore: 2.16\n",
      "Episode: 46\tAverage score: 1.60\tScore: 2.01\n",
      "Episode: 47\tAverage score: 1.61\tScore: 1.89\n",
      "Episode: 48\tAverage score: 1.63\tScore: 2.62\n",
      "Episode: 49\tAverage score: 1.64\tScore: 2.03\n",
      "Episode: 50\tAverage score: 1.66\tScore: 2.76\n",
      "Episode: 51\tAverage score: 1.69\tScore: 3.33\n",
      "Episode: 52\tAverage score: 1.72\tScore: 3.05\n",
      "Episode: 53\tAverage score: 1.74\tScore: 3.16\n",
      "Episode: 54\tAverage score: 1.77\tScore: 3.41\n",
      "Episode: 55\tAverage score: 1.80\tScore: 3.35\n",
      "Episode: 56\tAverage score: 1.83\tScore: 3.46\n",
      "Episode: 57\tAverage score: 1.86\tScore: 3.37\n",
      "Episode: 58\tAverage score: 1.88\tScore: 3.07\n",
      "Episode: 59\tAverage score: 1.92\tScore: 4.26\n",
      "Episode: 60\tAverage score: 1.95\tScore: 3.84\n",
      "Episode: 61\tAverage score: 1.99\tScore: 3.93\n",
      "Episode: 62\tAverage score: 2.04\tScore: 5.17\n",
      "Episode: 63\tAverage score: 2.07\tScore: 4.25\n",
      "Episode: 64\tAverage score: 2.10\tScore: 3.66\n",
      "Episode: 65\tAverage score: 2.13\tScore: 4.18\n",
      "Episode: 66\tAverage score: 2.15\tScore: 3.79\n",
      "Episode: 67\tAverage score: 2.19\tScore: 4.67\n",
      "Episode: 68\tAverage score: 2.22\tScore: 4.29\n",
      "Episode: 69\tAverage score: 2.26\tScore: 4.56\n",
      "Episode: 70\tAverage score: 2.28\tScore: 3.96\n",
      "Episode: 71\tAverage score: 2.31\tScore: 4.04\n",
      "Episode: 72\tAverage score: 2.34\tScore: 5.02\n",
      "Episode: 73\tAverage score: 2.37\tScore: 4.23\n",
      "Episode: 74\tAverage score: 2.40\tScore: 4.68\n",
      "Episode: 75\tAverage score: 2.43\tScore: 4.75\n",
      "Episode: 76\tAverage score: 2.47\tScore: 5.53\n",
      "Episode: 77\tAverage score: 2.52\tScore: 6.39\n",
      "Episode: 78\tAverage score: 2.57\tScore: 5.83\n",
      "Episode: 79\tAverage score: 2.61\tScore: 6.19\n",
      "Episode: 80\tAverage score: 2.66\tScore: 6.42\n",
      "Episode: 81\tAverage score: 2.72\tScore: 7.37\n",
      "Episode: 82\tAverage score: 2.77\tScore: 7.04\n",
      "Episode: 83\tAverage score: 2.83\tScore: 7.42\n",
      "Episode: 84\tAverage score: 2.88\tScore: 7.30\n",
      "Episode: 85\tAverage score: 2.94\tScore: 7.66\n",
      "Episode: 86\tAverage score: 2.99\tScore: 7.52\n",
      "Episode: 87\tAverage score: 3.03\tScore: 6.82\n",
      "Episode: 88\tAverage score: 3.09\tScore: 8.21\n",
      "Episode: 89\tAverage score: 3.15\tScore: 7.85\n",
      "Episode: 90\tAverage score: 3.20\tScore: 7.78\n",
      "Episode: 91\tAverage score: 3.27\tScore: 9.59\n",
      "Episode: 92\tAverage score: 3.32\tScore: 8.11\n",
      "Episode: 93\tAverage score: 3.37\tScore: 8.01\n",
      "Episode: 94\tAverage score: 3.44\tScore: 9.81\n",
      "Episode: 95\tAverage score: 3.50\tScore: 9.33\n",
      "Episode: 96\tAverage score: 3.55\tScore: 8.26\n",
      "Episode: 97\tAverage score: 3.61\tScore: 9.74\n",
      "Episode: 98\tAverage score: 3.68\tScore: 9.94\n",
      "Episode: 99\tAverage score: 3.75\tScore: 11.10\n",
      "Episode: 100\tAverage score: 3.84\tScore: 11.96\n",
      "Episode: 101\tAverage score: 3.93\tScore: 10.69\n",
      "Episode: 102\tAverage score: 4.04\tScore: 11.35\n",
      "Episode: 103\tAverage score: 4.14\tScore: 11.13\n",
      "Episode: 104\tAverage score: 4.24\tScore: 10.31\n",
      "Episode: 105\tAverage score: 4.34\tScore: 11.10\n",
      "Episode: 106\tAverage score: 4.46\tScore: 13.13\n",
      "Episode: 107\tAverage score: 4.58\tScore: 13.12\n",
      "Episode: 108\tAverage score: 4.70\tScore: 12.71\n",
      "Episode: 109\tAverage score: 4.80\tScore: 11.41\n",
      "Episode: 110\tAverage score: 4.93\tScore: 13.74\n",
      "Episode: 111\tAverage score: 5.06\tScore: 14.72\n",
      "Episode: 112\tAverage score: 5.20\tScore: 14.41\n",
      "Episode: 113\tAverage score: 5.35\tScore: 16.70\n",
      "Episode: 114\tAverage score: 5.49\tScore: 14.70\n",
      "Episode: 115\tAverage score: 5.63\tScore: 15.43\n",
      "Episode: 116\tAverage score: 5.78\tScore: 15.87\n",
      "Episode: 117\tAverage score: 5.93\tScore: 16.10\n",
      "Episode: 118\tAverage score: 6.07\tScore: 15.40\n",
      "Episode: 119\tAverage score: 6.20\tScore: 14.66\n",
      "Episode: 120\tAverage score: 6.34\tScore: 16.16\n",
      "Episode: 121\tAverage score: 6.50\tScore: 17.20\n",
      "Episode: 122\tAverage score: 6.65\tScore: 16.39\n",
      "Episode: 123\tAverage score: 6.80\tScore: 17.31\n",
      "Episode: 124\tAverage score: 6.95\tScore: 16.29\n",
      "Episode: 125\tAverage score: 7.07\tScore: 14.17\n",
      "Episode: 126\tAverage score: 7.24\tScore: 18.31\n",
      "Episode: 127\tAverage score: 7.41\tScore: 19.16\n",
      "Episode: 128\tAverage score: 7.59\tScore: 19.05\n",
      "Episode: 129\tAverage score: 7.76\tScore: 18.79\n",
      "Episode: 130\tAverage score: 7.93\tScore: 18.92\n",
      "Episode: 131\tAverage score: 8.10\tScore: 19.08\n",
      "Episode: 132\tAverage score: 8.27\tScore: 19.21\n",
      "Episode: 133\tAverage score: 8.46\tScore: 21.29\n",
      "Episode: 134\tAverage score: 8.66\tScore: 22.07\n",
      "Episode: 135\tAverage score: 8.84\tScore: 19.92\n",
      "Episode: 136\tAverage score: 9.01\tScore: 19.22\n",
      "Episode: 137\tAverage score: 9.19\tScore: 20.76\n",
      "Episode: 138\tAverage score: 9.37\tScore: 19.87\n",
      "Episode: 139\tAverage score: 9.56\tScore: 21.58\n",
      "Episode: 140\tAverage score: 9.77\tScore: 22.92\n",
      "Episode: 141\tAverage score: 9.95\tScore: 20.64\n",
      "Episode: 142\tAverage score: 10.13\tScore: 19.77\n",
      "Episode: 143\tAverage score: 10.36\tScore: 25.20\n",
      "Episode: 144\tAverage score: 10.56\tScore: 21.82\n",
      "Episode: 145\tAverage score: 10.81\tScore: 27.39\n",
      "Episode: 146\tAverage score: 11.02\tScore: 23.00\n",
      "Episode: 147\tAverage score: 11.22\tScore: 22.10\n",
      "Episode: 148\tAverage score: 11.47\tScore: 26.82\n",
      "Episode: 149\tAverage score: 11.70\tScore: 25.84\n",
      "Episode: 150\tAverage score: 11.93\tScore: 25.04\n",
      "Episode: 151\tAverage score: 12.15\tScore: 25.69\n",
      "Episode: 152\tAverage score: 12.39\tScore: 26.65\n",
      "Episode: 153\tAverage score: 12.63\tScore: 27.13\n",
      "Episode: 154\tAverage score: 12.85\tScore: 25.44\n",
      "Episode: 155\tAverage score: 13.09\tScore: 27.45\n",
      "Episode: 156\tAverage score: 13.35\tScore: 29.79\n",
      "Episode: 157\tAverage score: 13.61\tScore: 29.51\n",
      "Episode: 158\tAverage score: 13.87\tScore: 28.83\n",
      "Episode: 159\tAverage score: 14.10\tScore: 27.79\n",
      "Episode: 160\tAverage score: 14.35\tScore: 28.42\n",
      "Episode: 161\tAverage score: 14.60\tScore: 29.19\n",
      "Episode: 162\tAverage score: 14.85\tScore: 29.37\n",
      "Episode: 163\tAverage score: 15.08\tScore: 27.97\n",
      "Episode: 164\tAverage score: 15.33\tScore: 28.50\n",
      "Episode: 165\tAverage score: 15.62\tScore: 32.73\n",
      "Episode: 166\tAverage score: 15.87\tScore: 29.16\n",
      "Episode: 167\tAverage score: 16.14\tScore: 31.54\n",
      "Episode: 168\tAverage score: 16.42\tScore: 32.88\n",
      "Episode: 169\tAverage score: 16.70\tScore: 31.76\n",
      "Episode: 170\tAverage score: 16.99\tScore: 33.19\n",
      "Episode: 171\tAverage score: 17.28\tScore: 33.38\n",
      "Episode: 172\tAverage score: 17.59\tScore: 35.42\n",
      "Episode: 173\tAverage score: 17.87\tScore: 32.70\n",
      "Episode: 174\tAverage score: 18.16\tScore: 33.68\n",
      "Episode: 175\tAverage score: 18.46\tScore: 34.23\n",
      "Episode: 176\tAverage score: 18.76\tScore: 35.83\n",
      "Episode: 177\tAverage score: 19.05\tScore: 35.18\n",
      "Episode: 178\tAverage score: 19.34\tScore: 35.30\n",
      "Episode: 179\tAverage score: 19.64\tScore: 36.06\n",
      "Episode: 180\tAverage score: 19.90\tScore: 32.02\n",
      "Episode: 181\tAverage score: 20.20\tScore: 37.40\n",
      "Episode: 182\tAverage score: 20.50\tScore: 37.04\n"
     ]
    },
    {
     "name": "stdout",
     "output_type": "stream",
     "text": [
      "Episode: 183\tAverage score: 20.79\tScore: 37.19\n",
      "Episode: 184\tAverage score: 21.09\tScore: 36.48\n",
      "Episode: 185\tAverage score: 21.33\tScore: 32.47\n",
      "Episode: 186\tAverage score: 21.63\tScore: 36.77\n",
      "Episode: 187\tAverage score: 21.91\tScore: 35.35\n",
      "Episode: 188\tAverage score: 22.19\tScore: 36.25\n",
      "Episode: 189\tAverage score: 22.48\tScore: 36.63\n",
      "Episode: 190\tAverage score: 22.78\tScore: 37.75\n",
      "Episode: 191\tAverage score: 23.03\tScore: 34.19\n",
      "Episode: 192\tAverage score: 23.29\tScore: 34.34\n",
      "Episode: 193\tAverage score: 23.58\tScore: 37.41\n",
      "Episode: 194\tAverage score: 23.85\tScore: 36.67\n",
      "Episode: 195\tAverage score: 24.13\tScore: 37.72\n",
      "Episode: 196\tAverage score: 24.43\tScore: 37.78\n",
      "Episode: 197\tAverage score: 24.71\tScore: 37.82\n",
      "Episode: 198\tAverage score: 24.97\tScore: 35.65\n",
      "Episode: 199\tAverage score: 25.23\tScore: 37.14\n",
      "Episode: 200\tAverage score: 25.49\tScore: 38.38\n",
      "Episode: 201\tAverage score: 25.76\tScore: 37.94\n",
      "Episode: 202\tAverage score: 26.01\tScore: 36.10\n",
      "Episode: 203\tAverage score: 26.28\tScore: 37.49\n",
      "Episode: 204\tAverage score: 26.53\tScore: 35.75\n",
      "Episode: 205\tAverage score: 26.81\tScore: 38.80\n",
      "Episode: 206\tAverage score: 27.06\tScore: 38.56\n",
      "Episode: 207\tAverage score: 27.32\tScore: 38.52\n",
      "Episode: 208\tAverage score: 27.56\tScore: 37.08\n",
      "Episode: 209\tAverage score: 27.83\tScore: 38.12\n",
      "Episode: 210\tAverage score: 28.07\tScore: 38.49\n",
      "Episode: 211\tAverage score: 28.30\tScore: 37.26\n",
      "Episode: 212\tAverage score: 28.53\tScore: 37.55\n",
      "Episode: 213\tAverage score: 28.73\tScore: 36.51\n",
      "Episode: 214\tAverage score: 28.97\tScore: 38.48\n",
      "Episode: 215\tAverage score: 29.20\tScore: 38.87\n",
      "Episode: 216\tAverage score: 29.42\tScore: 37.59\n",
      "Episode: 217\tAverage score: 29.62\tScore: 36.00\n",
      "Episode: 218\tAverage score: 29.85\tScore: 38.21\n",
      "Episode: 219\tAverage score: 30.06\tScore: 36.14\n",
      "Environment solved in 219 episodes.\tAverage score is 30.06\n",
      "... Saving checkpoint ...\n",
      "... Saving checkpoint ...\n",
      "... Saving checkpoint ...\n",
      "... Saving checkpoint ...\n"
     ]
    }
   ],
   "source": [
    "# Create the agent\n",
    "agent = Agent(state_size=env_info.vector_observations.shape[1], action_size=brain.vector_action_space_size, \n",
    "              num_agents=len(env_info.agents))\n",
    "\n",
    "def ddpg(n_episodes=800, max_t=1000):\n",
    "\n",
    "    # Mean scores for each episodes\n",
    "    scores = []\n",
    "    # Mean scores for last 100 episodes\n",
    "    scores_windows = deque(maxlen=100)\n",
    "    \n",
    "    # For each episode\n",
    "    for i_episode in range(1, n_episodes + 1):\n",
    "        env_info = env.reset(train_mode=True)[brain_name]\n",
    "        states = env_info.vector_observations\n",
    "        agent.reset()\n",
    "        score = np.zeros(len(env_info.agents))\n",
    "        \n",
    "        # For each timestep\n",
    "        for step in range(max_t):\n",
    "            actions = agent.act(states)                                  # Select action for each agent\n",
    "            env_info = env.step(actions)[brain_name]                     # Send actions to environment\n",
    "            next_states = env_info.vector_observations                   # Get next states\n",
    "            rewards = env_info.rewards                                   # Get rewards\n",
    "            dones = env_info.local_done                                  # Get dones\n",
    "             \n",
    "            agent.step(states, actions, rewards, next_states, dones)     # take action and learn\n",
    "            score += rewards                                             # add rewards\n",
    "            states = next_states\n",
    "            \n",
    "            if np.any(dones):                                        \n",
    "                break                                                     # If any episode ends, break the loop\n",
    "        scores_windows.append(np.mean(score))\n",
    "        scores.append(np.mean(score))\n",
    "        \n",
    "        print(f\"Episode: {i_episode}\\tAverage score: {np.mean(scores_windows):.2f}\\tScore: {np.mean(score):.2f}\")\n",
    "                \n",
    "        if np.mean(scores_windows) > 30:  # If the score of 30 is reached in last 100 episodes it's finish\n",
    "            print(f\"Environment solved in {i_episode} episodes.\\tAverage score is {np.mean(scores_windows):.2f}\")\n",
    "            agent.save_models()\n",
    "            break\n",
    "    return scores\n",
    "        \n",
    "scores = ddpg()"
   ]
  },
  {
   "cell_type": "code",
   "execution_count": 5,
   "metadata": {},
   "outputs": [],
   "source": [
    "env.close()"
   ]
  },
  {
   "cell_type": "markdown",
   "metadata": {},
   "source": [
    "## Plot the scores"
   ]
  },
  {
   "cell_type": "code",
   "execution_count": 7,
   "metadata": {},
   "outputs": [
    {
     "data": {
      "image/png": "[encoded data removed]",
      "text/plain": [
       "<Figure size 432x288 with 1 Axes>"
      ]
     },
     "metadata": {
      "needs_background": "light"
     },
     "output_type": "display_data"
    }
   ],
   "source": [
    "fig = plt.figure()\n",
    "ax = fig.add_subplot(111)\n",
    "plt.plot(np.arange(1, len(scores)+1), scores)\n",
    "plt.xlabel('Episode #')\n",
    "plt.ylabel('Score')\n",
    "plt.show()"
   ]
  },
  {
   "cell_type": "markdown",
   "metadata": {},
   "source": [
    "## Let's play the agent"
   ]
  },
  {
   "cell_type": "code",
   "execution_count": 1,
   "metadata": {},
   "outputs": [
    {
     "name": "stderr",
     "output_type": "stream",
     "text": [
      "INFO:unityagents:\n",
      "'Academy' started successfully!\n",
      "Unity Academy name: Academy\n",
      "        Number of Brains: 1\n",
      "        Number of External Brains : 1\n",
      "        Lesson number : 0\n",
      "        Reset Parameters :\n",
      "\t\tgoal_speed -> 1.0\n",
      "\t\tgoal_size -> 5.0\n",
      "Unity brain name: ReacherBrain\n",
      "        Number of Visual Observations (per agent): 0\n",
      "        Vector Observation space type: continuous\n",
      "        Vector Observation space size (per agent): 33\n",
      "        Number of stacked Vector Observation: 1\n",
      "        Vector Action space type: continuous\n",
      "        Vector Action space size (per agent): 4\n",
      "        Vector Action descriptions: , , , \n"
     ]
    },
    {
     "name": "stdout",
     "output_type": "stream",
     "text": [
      "... Loading checkpoint ...\n",
      "... Loading checkpoint ...\n",
      "... Loading checkpoint ...\n",
      "... Loading checkpoint ...\n",
      "Total score: 0.03895054857993683\n"
     ]
    }
   ],
   "source": [
    "from unityagents import UnityEnvironment\n",
    "\n",
    "import os\n",
    "import torch as T\n",
    "import torch.nn as nn\n",
    "import torch.nn.functional as F\n",
    "import torch.optim as optim\n",
    "import numpy as np\n",
    "import matplotlib.pyplot as plt\n",
    "\n",
    "from ddpg_agent import Agent\n",
    "\n",
    "from collections import deque\n",
    "\n",
    "%matplotlib inline\n",
    "\n",
    "LR_ACTOR = 1e-3         # learning rate of the actor \n",
    "LR_CRITIC = 1e-4        # learning rate of the critic\n",
    "\n",
    "env = UnityEnvironment(file_name='Data/Reacher_Linux/Reacher.x86_64')\n",
    "\n",
    "# get the default brain\n",
    "brain_name = env.brain_names[0]\n",
    "brain = env.brains[brain_name]\n",
    "env_info = env.reset(train_mode=False)[brain_name]\n",
    "states = env_info.vector_observations\n",
    "\n",
    "# Create a new agent\n",
    "agent_runner = Agent(state_size=env_info.vector_observations.shape[1], action_size=brain.vector_action_space_size, \n",
    "              num_agents=len(env_info.agents))\n",
    "agent_runner.load_models()\n",
    "\n",
    "score = []\n",
    "while True:\n",
    "    actions = agent_runner.act(states, add_noise=False)\n",
    "    env_info = env.step(actions)[brain_name]\n",
    "    states = env_info.vector_observations\n",
    "    rewards = rewards = env_info.rewards\n",
    "    score.append(rewards)\n",
    "    dones = env_info.local_done \n",
    "    if np.any(dones):\n",
    "        break\n",
    "env.close()\n",
    "\n",
    "print(f\"Total score: {np.mean(score)}\")"
   ]
  },
  {
   "cell_type": "code",
   "execution_count": 6,
   "metadata": {},
   "outputs": [
    {
     "data": {
      "text/plain": [
       "CriticNetwork(\n",
       "  (fc1): Linear(in_features=33, out_features=42, bias=True)\n",
       "  (fc2): Linear(in_features=46, out_features=300, bias=True)\n",
       "  (fc3): Linear(in_features=300, out_features=1, bias=True)\n",
       "  (relu): ReLU()\n",
       "  (bn0): LayerNorm(torch.Size([33]), eps=1e-05, elementwise_affine=True)\n",
       "  (bn1): LayerNorm(torch.Size([42]), eps=1e-05, elementwise_affine=True)\n",
       "  (bn2): LayerNorm(torch.Size([300]), eps=1e-05, elementwise_affine=True)\n",
       ")"
      ]
     },
     "execution_count": 6,
     "metadata": {},
     "output_type": "execute_result"
    }
   ],
   "source": [
    "agent_runner.critic"
   ]
  },
  {
   "cell_type": "code",
   "execution_count": 7,
   "metadata": {},
   "outputs": [
    {
     "data": {
      "text/plain": [
       "ActorNetwork(\n",
       "  (fc1): Linear(in_features=33, out_features=42, bias=True)\n",
       "  (fc2): Linear(in_features=42, out_features=300, bias=True)\n",
       "  (bn0): LayerNorm(torch.Size([33]), eps=1e-05, elementwise_affine=True)\n",
       "  (bn1): LayerNorm(torch.Size([42]), eps=1e-05, elementwise_affine=True)\n",
       "  (bn2): LayerNorm(torch.Size([300]), eps=1e-05, elementwise_affine=True)\n",
       "  (mu): Linear(in_features=300, out_features=4, bias=True)\n",
       ")"
      ]
     },
     "execution_count": 7,
     "metadata": {},
     "output_type": "execute_result"
    }
   ],
   "source": [
    "agent_runner.actor"
   ]
  }
 ],
 "metadata": {
  "kernelspec": {
   "display_name": "Python 3",
   "language": "python",
   "name": "python3"
  },
  "language_info": {
   "codemirror_mode": {
    "name": "ipython",
    "version": 3
   },
   "file_extension": ".py",
   "mimetype": "text/x-python",
   "name": "python",
   "nbconvert_exporter": "python",
   "pygments_lexer": "ipython3",
   "version": "3.6.12"
  },
  "varInspector": {
   "cols": {
    "lenName": 16,
    "lenType": 16,
    "lenVar": 40
   },
   "kernels_config": {
    "python": {
     "delete_cmd_postfix": "",
     "delete_cmd_prefix": "del ",
     "library": "var_list.py",
     "varRefreshCmd": "print(var_dic_list())"
    },
    "r": {
     "delete_cmd_postfix": ") ",
     "delete_cmd_prefix": "rm(",
     "library": "var_list.r",
     "varRefreshCmd": "cat(var_dic_list()) "
    }
   },
   "types_to_exclude": [
    "module",
    "function",
    "builtin_function_or_method",
    "instance",
    "_Feature"
   ],
   "window_display": false
  }
 },
 "nbformat": 4,
 "nbformat_minor": 2
}
