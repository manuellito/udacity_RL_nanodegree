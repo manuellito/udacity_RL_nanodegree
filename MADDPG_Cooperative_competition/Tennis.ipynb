{
 "cells": [
  {
   "cell_type": "markdown",
   "metadata": {},
   "source": [
    "# Collaboration and Competition\n",
    "\n",
    "---\n",
    "\n",
    "In this notebook, you will learn how to use the Unity ML-Agents environment for the third project of the [Deep Reinforcement Learning Nanodegree](https://www.udacity.com/course/deep-reinforcement-learning-nanodegree--nd893) program.\n",
    "\n",
    "### 1. Start the Environment\n",
    "\n",
    "We begin by importing the necessary packages.  If the code cell below returns an error, please revisit the project instructions to double-check that you have installed [Unity ML-Agents](https://github.com/Unity-Technologies/ml-agents/blob/master/docs/Installation.md) and [NumPy](http://www.numpy.org/)."
   ]
  },
  {
   "cell_type": "code",
   "execution_count": 1,
   "metadata": {},
   "outputs": [],
   "source": [
    "from unityagents import UnityEnvironment\n",
    "import numpy as np"
   ]
  },
  {
   "cell_type": "markdown",
   "metadata": {},
   "source": [
    "Next, we will start the environment!  **_Before running the code cell below_**, change the `file_name` parameter to match the location of the Unity environment that you downloaded.\n",
    "\n",
    "- **Mac**: `\"path/to/Tennis.app\"`\n",
    "- **Windows** (x86): `\"path/to/Tennis_Windows_x86/Tennis.exe\"`\n",
    "- **Windows** (x86_64): `\"path/to/Tennis_Windows_x86_64/Tennis.exe\"`\n",
    "- **Linux** (x86): `\"path/to/Tennis_Linux/Tennis.x86\"`\n",
    "- **Linux** (x86_64): `\"path/to/Tennis_Linux/Tennis.x86_64\"`\n",
    "- **Linux** (x86, headless): `\"path/to/Tennis_Linux_NoVis/Tennis.x86\"`\n",
    "- **Linux** (x86_64, headless): `\"path/to/Tennis_Linux_NoVis/Tennis.x86_64\"`\n",
    "\n",
    "For instance, if you are using a Mac, then you downloaded `Tennis.app`.  If this file is in the same folder as the notebook, then the line below should appear as follows:\n",
    "```\n",
    "env = UnityEnvironment(file_name=\"Tennis.app\")\n",
    "```"
   ]
  },
  {
   "cell_type": "code",
   "execution_count": 2,
   "metadata": {},
   "outputs": [
    {
     "name": "stderr",
     "output_type": "stream",
     "text": [
      "INFO:unityagents:\n",
      "'Academy' started successfully!\n",
      "Unity Academy name: Academy\n",
      "        Number of Brains: 1\n",
      "        Number of External Brains : 1\n",
      "        Lesson number : 0\n",
      "        Reset Parameters :\n",
      "\t\t\n",
      "Unity brain name: TennisBrain\n",
      "        Number of Visual Observations (per agent): 0\n",
      "        Vector Observation space type: continuous\n",
      "        Vector Observation space size (per agent): 8\n",
      "        Number of stacked Vector Observation: 3\n",
      "        Vector Action space type: continuous\n",
      "        Vector Action space size (per agent): 2\n",
      "        Vector Action descriptions: , \n"
     ]
    }
   ],
   "source": [
    "# Define environment\n",
    "env = UnityEnvironment(file_name=\"Data/Tennis_Linux/Tennis.x86_64\")"
   ]
  },
  {
   "cell_type": "markdown",
   "metadata": {},
   "source": [
    "Environments contain **_brains_** which are responsible for deciding the actions of their associated agents. Here we check for the first brain available, and set it as the default brain we will be controlling from Python."
   ]
  },
  {
   "cell_type": "code",
   "execution_count": 3,
   "metadata": {},
   "outputs": [],
   "source": [
    "# get the default brain\n",
    "brain_name = env.brain_names[0]\n",
    "brain = env.brains[brain_name]"
   ]
  },
  {
   "cell_type": "markdown",
   "metadata": {},
   "source": [
    "### 2. Train the agent\n",
    "\n",
    "Now it's your turn to train your own agent to solve the environment!  When training the environment, set `train_mode=True`, so that the line for resetting the environment looks like the following:\n",
    "```python\n",
    "env_info = env.reset(train_mode=True)[brain_name]\n",
    "```"
   ]
  },
  {
   "cell_type": "code",
   "execution_count": 4,
   "metadata": {},
   "outputs": [
    {
     "name": "stdout",
     "output_type": "stream",
     "text": [
      "Requirement already satisfied: wandb in /home/manu/.conda/envs/drlnd/lib/python3.6/site-packages (0.10.12)\n",
      "Requirement already satisfied: docker-pycreds>=0.4.0 in /home/manu/.conda/envs/drlnd/lib/python3.6/site-packages (from wandb) (0.4.0)\n",
      "Requirement already satisfied: psutil>=5.0.0 in /home/manu/.conda/envs/drlnd/lib/python3.6/site-packages (from wandb) (5.8.0)\n",
      "Requirement already satisfied: configparser>=3.8.1 in /home/manu/.conda/envs/drlnd/lib/python3.6/site-packages (from wandb) (5.0.1)\n",
      "Requirement already satisfied: promise<3,>=2.0 in /home/manu/.conda/envs/drlnd/lib/python3.6/site-packages (from wandb) (2.3)\n",
      "Requirement already satisfied: PyYAML in /home/manu/.conda/envs/drlnd/lib/python3.6/site-packages (from wandb) (5.3.1)\n",
      "Requirement already satisfied: GitPython>=1.0.0 in /home/manu/.conda/envs/drlnd/lib/python3.6/site-packages (from wandb) (3.1.11)\n",
      "Requirement already satisfied: shortuuid>=0.5.0 in /home/manu/.conda/envs/drlnd/lib/python3.6/site-packages (from wandb) (1.0.1)\n",
      "Requirement already satisfied: protobuf>=3.12.0 in /home/manu/.conda/envs/drlnd/lib/python3.6/site-packages (from wandb) (3.15.5)\n",
      "Requirement already satisfied: requests<3,>=2.0.0 in /home/manu/.conda/envs/drlnd/lib/python3.6/site-packages (from wandb) (2.25.1)\n",
      "Requirement already satisfied: subprocess32>=3.5.3 in /home/manu/.conda/envs/drlnd/lib/python3.6/site-packages (from wandb) (3.5.4)\n",
      "Requirement already satisfied: Click>=7.0 in /home/manu/.conda/envs/drlnd/lib/python3.6/site-packages (from wandb) (7.1.2)\n",
      "Requirement already satisfied: six>=1.13.0 in /home/manu/.conda/envs/drlnd/lib/python3.6/site-packages (from wandb) (1.15.0)\n",
      "Requirement already satisfied: watchdog>=0.8.3 in /home/manu/.conda/envs/drlnd/lib/python3.6/site-packages (from wandb) (1.0.2)\n",
      "Requirement already satisfied: sentry-sdk>=0.4.0 in /home/manu/.conda/envs/drlnd/lib/python3.6/site-packages (from wandb) (0.19.5)\n",
      "Requirement already satisfied: python-dateutil>=2.6.1 in /home/manu/.conda/envs/drlnd/lib/python3.6/site-packages (from wandb) (2.8.1)\n",
      "Requirement already satisfied: gitdb<5,>=4.0.1 in /home/manu/.conda/envs/drlnd/lib/python3.6/site-packages (from GitPython>=1.0.0->wandb) (4.0.5)\n",
      "Requirement already satisfied: smmap<4,>=3.0.1 in /home/manu/.conda/envs/drlnd/lib/python3.6/site-packages (from gitdb<5,>=4.0.1->GitPython>=1.0.0->wandb) (3.0.4)\n",
      "Requirement already satisfied: urllib3<1.27,>=1.21.1 in /home/manu/.conda/envs/drlnd/lib/python3.6/site-packages (from requests<3,>=2.0.0->wandb) (1.26.2)\n",
      "Requirement already satisfied: certifi>=2017.4.17 in /home/manu/.conda/envs/drlnd/lib/python3.6/site-packages (from requests<3,>=2.0.0->wandb) (2020.12.5)\n",
      "Requirement already satisfied: idna<3,>=2.5 in /home/manu/.conda/envs/drlnd/lib/python3.6/site-packages (from requests<3,>=2.0.0->wandb) (2.10)\n",
      "Requirement already satisfied: chardet<5,>=3.0.2 in /home/manu/.conda/envs/drlnd/lib/python3.6/site-packages (from requests<3,>=2.0.0->wandb) (4.0.0)\n",
      "\u001b[33mWARNING: You are using pip version 20.3.3; however, version 21.0.1 is available.\n",
      "You should consider upgrading via the '/home/manu/.conda/envs/drlnd/bin/python -m pip install --upgrade pip' command.\u001b[0m\n",
      "Requirement already satisfied: jovian in /home/manu/.conda/envs/drlnd/lib/python3.6/site-packages (0.2.26)\n",
      "Requirement already satisfied: requests in /home/manu/.conda/envs/drlnd/lib/python3.6/site-packages (from jovian) (2.25.1)\n",
      "Requirement already satisfied: click in /home/manu/.conda/envs/drlnd/lib/python3.6/site-packages (from jovian) (7.1.2)\n",
      "Requirement already satisfied: pyyaml in /home/manu/.conda/envs/drlnd/lib/python3.6/site-packages (from jovian) (5.3.1)\n",
      "Requirement already satisfied: uuid in /home/manu/.conda/envs/drlnd/lib/python3.6/site-packages (from jovian) (1.30)\n",
      "Requirement already satisfied: idna<3,>=2.5 in /home/manu/.conda/envs/drlnd/lib/python3.6/site-packages (from requests->jovian) (2.10)\n",
      "Requirement already satisfied: chardet<5,>=3.0.2 in /home/manu/.conda/envs/drlnd/lib/python3.6/site-packages (from requests->jovian) (4.0.0)\n",
      "Requirement already satisfied: certifi>=2017.4.17 in /home/manu/.conda/envs/drlnd/lib/python3.6/site-packages (from requests->jovian) (2020.12.5)\n",
      "Requirement already satisfied: urllib3<1.27,>=1.21.1 in /home/manu/.conda/envs/drlnd/lib/python3.6/site-packages (from requests->jovian) (1.26.2)\n",
      "\u001b[33mWARNING: You are using pip version 20.3.3; however, version 21.0.1 is available.\n",
      "You should consider upgrading via the '/home/manu/.conda/envs/drlnd/bin/python -m pip install --upgrade pip' command.\u001b[0m\n",
      "Requirement already satisfied: protobuf in /home/manu/.conda/envs/drlnd/lib/python3.6/site-packages (3.15.5)\n",
      "Requirement already satisfied: six>=1.9 in /home/manu/.conda/envs/drlnd/lib/python3.6/site-packages (from protobuf) (1.15.0)\n",
      "\u001b[33mWARNING: You are using pip version 20.3.3; however, version 21.0.1 is available.\n",
      "You should consider upgrading via the '/home/manu/.conda/envs/drlnd/bin/python -m pip install --upgrade pip' command.\u001b[0m\n"
     ]
    }
   ],
   "source": [
    "# Tracking\n",
    "!pip install wandb\n",
    "!pip install jovian\n",
    "!pip install --upgrade protobuf\n",
    "\n",
    "import wandb\n",
    "import jovian\n",
    "import glob"
   ]
  },
  {
   "cell_type": "code",
   "execution_count": 5,
   "metadata": {},
   "outputs": [],
   "source": [
    "from unityagents import UnityEnvironment\n",
    "import numpy as np\n",
    "from collections import deque\n",
    "\n",
    "from maddpg import MADDPG\n",
    "\n",
    "%matplotlib inline"
   ]
  },
  {
   "cell_type": "code",
   "execution_count": 6,
   "metadata": {},
   "outputs": [
    {
     "name": "stdout",
     "output_type": "stream",
     "text": [
      "Number of agents: 2\n",
      "Size of each action: 2\n",
      "There are 2 agents. Each observes a state with length: 24\n",
      "The state for the first agent looks like: [ 0.          0.          0.          0.          0.          0.\n",
      "  0.          0.          0.          0.          0.          0.\n",
      "  0.          0.          0.          0.         -6.65278625 -1.5\n",
      " -0.          0.          6.83172083  6.         -0.          0.        ]\n"
     ]
    }
   ],
   "source": [
    "# reset the environment\n",
    "env_info = env.reset(train_mode=True)[brain_name]\n",
    "\n",
    "# number of agents \n",
    "num_agents = len(env_info.agents)\n",
    "print('Number of agents:', num_agents)\n",
    "\n",
    "# size of each action\n",
    "action_size = brain.vector_action_space_size\n",
    "print('Size of each action:', action_size)\n",
    "\n",
    "# examine the state space \n",
    "states = env_info.vector_observations\n",
    "state_size = states.shape[1]\n",
    "print('There are {} agents. Each observes a state with length: {}'.format(states.shape[0], state_size))\n",
    "print('The state for the first agent looks like:', states[0])"
   ]
  },
  {
   "cell_type": "code",
   "execution_count": null,
   "metadata": {},
   "outputs": [],
   "source": []
  },
  {
   "cell_type": "code",
   "execution_count": 7,
   "metadata": {},
   "outputs": [
    {
     "name": "stderr",
     "output_type": "stream",
     "text": [
      "\u001b[34m\u001b[1mwandb\u001b[0m: Currently logged in as: \u001b[33mbatmanu\u001b[0m (use `wandb login --relogin` to force relogin)\n",
      "\u001b[34m\u001b[1mwandb\u001b[0m: wandb version 0.10.21 is available!  To upgrade, please run:\n",
      "\u001b[34m\u001b[1mwandb\u001b[0m:  $ pip install wandb --upgrade\n"
     ]
    },
    {
     "data": {
      "text/html": [
       "\n",
       "                Tracking run with wandb version 0.10.12<br/>\n",
       "                Syncing run <strong style=\"color:#cdcd00\">Xmas</strong> to <a href=\"https://wandb.ai\" target=\"_blank\">Weights & Biases</a> <a href=\"https://docs.wandb.com/integrations/jupyter.html\" target=\"_blank\">(Documentation)</a>.<br/>\n",
       "                Project page: <a href=\"https://wandb.ai/batmanu/rl_cooperative_tennis\" target=\"_blank\">https://wandb.ai/batmanu/rl_cooperative_tennis</a><br/>\n",
       "                Run page: <a href=\"https://wandb.ai/batmanu/rl_cooperative_tennis/runs/20m6jkjm\" target=\"_blank\">https://wandb.ai/batmanu/rl_cooperative_tennis/runs/20m6jkjm</a><br/>\n",
       "                Run data is saved locally in <code>/home/manu/udacity/deep-reinforcement-learning/tmp/p3_collab-compet/wandb/run-20210308_022303-20m6jkjm</code><br/><br/>\n",
       "            "
      ],
      "text/plain": [
       "<IPython.core.display.HTML object>"
      ]
     },
     "metadata": {},
     "output_type": "display_data"
    },
    {
     "name": "stdout",
     "output_type": "stream",
     "text": [
      "[jovian] Hyperparams logged.\u001b[0m\n",
      "Episode 99  Average100 Score: 0.00644\n",
      "Episodes 99\tAverage score: 0.01\tScore: -0.00\n",
      "\n",
      "Episode 199  Average100 Score: 0.2019\n",
      "Episodes 199\tAverage score: 0.20\tScore: 1.20\n",
      "\n",
      "Episode 290  Average100 Score: 0.5000\n",
      "Environment solved in 290 episodes.\tAverage score is 0.50\n",
      "... Saving checkpoint ...\n",
      "... Saving checkpoint ...\n",
      "... Saving checkpoint ...\n",
      "... Saving checkpoint ...\n",
      "... Saving checkpoint ...\n",
      "... Saving checkpoint ...\n",
      "... Saving checkpoint ...\n",
      "... Saving checkpoint ...\n",
      "[jovian] Metrics logged.\u001b[0m\n"
     ]
    },
    {
     "data": {
      "application/javascript": [
       "window.require && require([\"base/js/namespace\"],function(Jupyter){Jupyter.notebook.save_checkpoint()})"
      ],
      "text/plain": [
       "<IPython.core.display.Javascript object>"
      ]
     },
     "metadata": {},
     "output_type": "display_data"
    },
    {
     "name": "stdout",
     "output_type": "stream",
     "text": [
      "[jovian] Attempting to save notebook..\u001b[0m\n",
      "[jovian] Updating notebook \"manu-farcy/rl-cooperative-tennis\" on https://jovian.ai/\u001b[0m\n",
      "[jovian] Uploading notebook..\u001b[0m\n",
      "[jovian] Uploading additional files...\u001b[0m\n",
      "[jovian] Attaching records (metrics, hyperparameters, dataset etc.)\u001b[0m\n",
      "[jovian] Committed successfully! https://jovian.ai/manu-farcy/rl-cooperative-tennis\u001b[0m\n"
     ]
    }
   ],
   "source": [
    "agents = MADDPG(state_size, action_size)\n",
    "\n",
    "max_episodes = 4000\n",
    "\n",
    "# Scores of all episodes for plotting\n",
    "scores = []\n",
    "# Last 100 scores\n",
    "scores_windows = deque(maxlen=100)\n",
    "# Timestep\n",
    "t_step = 1\n",
    "\n",
    "# Play episodes\n",
    "for episode in range(max_episodes):\n",
    "    # Init episode\n",
    "    env_info = env.reset(train_mode=True)[brain_name]\n",
    "    states = env_info.vector_observations\n",
    "    score = np.zeros(num_agents)\n",
    "    \n",
    "    # Play all timestep\n",
    "    while True:\n",
    "        # Get actions\n",
    "        actions = agents.act(states)\n",
    "        # Play step\n",
    "        env_info = env.step(actions)[brain_name]\n",
    "        # Retrieve step information\n",
    "        next_states = env_info.vector_observations\n",
    "        rewards = env_info.rewards\n",
    "        dones = env_info.local_done\n",
    "        score += rewards\n",
    "        agents.step(states, actions, rewards, next_states, dones, t_step)\n",
    "        states = next_states\n",
    "        \n",
    "        t_step += 1\n",
    "        \n",
    "        if np.any(dones):\n",
    "            break\n",
    "        \n",
    "    scores.append(score)\n",
    "    scores_windows.append(score)\n",
    "    wandb.log({'score': score,\n",
    "      \"mean last 100 scores\": np.mean(scores_windows)})   \n",
    "\n",
    "    print('\\rEpisode {}  Average100 Score: {:.4f}'.format(episode, np.mean(scores_windows)), end=\"\")\n",
    "        \n",
    "    if (episode + 1) % 100 == 0:\n",
    "        print(f\"\\nEpisodes {episode}\\tAverage score: {np.mean(scores_windows):.2f}\\tScore: {np.mean(score):.2f}\\n\")\n",
    "    \n",
    "    # If the scorev of 0.5 is reached in last 100 episodes it's finish\n",
    "    if np.mean(scores_windows) > 0.5:  \n",
    "        print(f\"\\nEnvironment solved in {episode} episodes.\\tAverage score is {np.mean(scores_windows):.2f}\")\n",
    "        agents.save() \n",
    "    \n",
    "        jovian.log_metrics({\"number episode resolved\": episode,\n",
    "               \"Last 100 score\": np.mean(scores_windows)})\n",
    "        # python files\n",
    "        py_files = glob.glob(\"*.py\")\n",
    "        py_files.append(\"Tennis.ipynb\")\n",
    "        # Parameters saved files\n",
    "        pth_files = glob.glob(\"save/*\")\n",
    "        jovian.commit(project=agents.get_project_name(), message=agents.get_model_name(), environment=None, \n",
    "                      files=py_files, output=pth_files)\n",
    "        break\n",
    "        \n",
    "env.close()"
   ]
  },
  {
   "cell_type": "code",
   "execution_count": 8,
   "metadata": {},
   "outputs": [
    {
     "data": {
      "text/plain": [
       "Text(0.5, 0, 'Episode #')"
      ]
     },
     "execution_count": 8,
     "metadata": {},
     "output_type": "execute_result"
    },
    {
     "data": {
      "image/png": "[encoded data removed]",
      "text/plain": [
       "<Figure size 432x288 with 1 Axes>"
      ]
     },
     "metadata": {
      "needs_background": "light"
     },
     "output_type": "display_data"
    }
   ],
   "source": [
    "import matplotlib.pyplot as plt\n",
    "scores_mean = np.mean(np.asarray(scores), axis=1)\n",
    "fig = plt.figure()\n",
    "ax = fig.add_subplot(111)\n",
    "plt.plot(np.arange(len(scores)), scores_mean)\n",
    "plt.ylabel('Score')\n",
    "plt.xlabel('Episode #')"
   ]
  },
  {
   "cell_type": "markdown",
   "metadata": {},
   "source": [
    "# Let's play the agents"
   ]
  },
  {
   "cell_type": "code",
   "execution_count": null,
   "metadata": {},
   "outputs": [],
   "source": [
    "\n",
    "from unityagents import UnityEnvironment\n",
    "\n",
    "import os\n",
    "import torch as T\n",
    "import torch.nn as nn\n",
    "import torch.nn.functional as F\n",
    "import torch.optim as optim\n",
    "import numpy as np\n",
    "import matplotlib.pyplot as plt\n",
    "\n",
    "from maddpg import MADDPG\n",
    "\n",
    "from collections import deque\n",
    "\n",
    "\n",
    "# Load environment\n",
    "env = UnityEnvironment(file_name=\"Data/Tennis_Linux/Tennis.x86_64\")\n",
    "# get the default brain\n",
    "brain_name = env.brain_names[0]\n",
    "brain = env.brains[brain_name]\n",
    "\n",
    "env_info = env.reset(train_mode=False)[brain_name]\n",
    "states = env_info.vector_observations\n",
    "    \n",
    "action_size = brain.vector_action_space_size\n",
    "state_size = states.shape[1]\n",
    "\n",
    "# Create new agents\n",
    "agents = MADDPG(state_size, action_size)\n",
    "agents.load()\n",
    "\n",
    "for episode in range(10):\n",
    "\n",
    "    env_info = env.reset(train_mode=False)[brain_name]\n",
    "    states = env_info.vector_observations\n",
    "\n",
    "    \n",
    "    \n",
    "    \n",
    "    score = []\n",
    "    while True:\n",
    "        actions = agents.act(states)\n",
    "        env_info = env.step(actions)[brain_name]\n",
    "        states = env_info.vector_observations\n",
    "        rewards = env_info.rewards\n",
    "        score.append(rewards)\n",
    "\n",
    "        dones = env_info.local_done\n",
    "        if np.any(dones):\n",
    "            break\n",
    "\n",
    "env.close()\n",
    "\n",
    "print(f\"Total score: {np.mean(score)}\")"
   ]
  }
 ],
 "metadata": {
  "kernelspec": {
   "display_name": "drlnd",
   "language": "python",
   "name": "drlnd"
  },
  "language_info": {
   "codemirror_mode": {
    "name": "ipython",
    "version": 3
   },
   "file_extension": ".py",
   "mimetype": "text/x-python",
   "name": "python",
   "nbconvert_exporter": "python",
   "pygments_lexer": "ipython3",
   "version": "3.6.12"
  },
  "varInspector": {
   "cols": {
    "lenName": 16,
    "lenType": 16,
    "lenVar": 40
   },
   "kernels_config": {
    "python": {
     "delete_cmd_postfix": "",
     "delete_cmd_prefix": "del ",
     "library": "var_list.py",
     "varRefreshCmd": "print(var_dic_list())"
    },
    "r": {
     "delete_cmd_postfix": ") ",
     "delete_cmd_prefix": "rm(",
     "library": "var_list.r",
     "varRefreshCmd": "cat(var_dic_list()) "
    }
   },
   "types_to_exclude": [
    "module",
    "function",
    "builtin_function_or_method",
    "instance",
    "_Feature"
   ],
   "window_display": false
  }
 },
 "nbformat": 4,
 "nbformat_minor": 2
}
