{
 "cells": [
  {
   "cell_type": "markdown",
   "metadata": {},
   "source": [
    "# Navigation\n",
    "\n",
    "---\n",
    "\n",
    "In this notebook, you will learn how to use the Unity ML-Agents environment for the first project of the [Deep Reinforcement Learning Nanodegree](https://www.udacity.com/course/deep-reinforcement-learning-nanodegree--nd893).\n",
    "\n",
    "### 1. Start the Environment\n",
    "\n",
    "We begin by importing some necessary packages.  If the code cell below returns an error, please revisit the project instructions to double-check that you have installed [Unity ML-Agents](https://github.com/Unity-Technologies/ml-agents/blob/master/docs/Installation.md) and [NumPy](http://www.numpy.org/)."
   ]
  },
  {
   "cell_type": "code",
   "execution_count": 1,
   "metadata": {},
   "outputs": [],
   "source": [
    "from unityagents import UnityEnvironment\n",
    "import torch\n",
    "import numpy as np"
   ]
  },
  {
   "cell_type": "markdown",
   "metadata": {},
   "source": [
    "Next, we will start the environment!  **_Before running the code cell below_**, change the `file_name` parameter to match the location of the Unity environment that you downloaded.\n",
    "\n",
    "- **Mac**: `\"path/to/Banana.app\"`\n",
    "- **Windows** (x86): `\"path/to/Banana_Windows_x86/Banana.exe\"`\n",
    "- **Windows** (x86_64): `\"path/to/Banana_Windows_x86_64/Banana.exe\"`\n",
    "- **Linux** (x86): `\"path/to/Banana_Linux/Banana.x86\"`\n",
    "- **Linux** (x86_64): `\"path/to/Banana_Linux/Banana.x86_64\"`\n",
    "- **Linux** (x86, headless): `\"path/to/Banana_Linux_NoVis/Banana.x86\"`\n",
    "- **Linux** (x86_64, headless): `\"path/to/Banana_Linux_NoVis/Banana.x86_64\"`\n",
    "\n",
    "For instance, if you are using a Mac, then you downloaded `Banana.app`.  If this file is in the same folder as the notebook, then the line below should appear as follows:\n",
    "```\n",
    "env = UnityEnvironment(file_name=\"Banana.app\")\n",
    "```"
   ]
  },
  {
   "cell_type": "code",
   "execution_count": 2,
   "metadata": {},
   "outputs": [
    {
     "name": "stderr",
     "output_type": "stream",
     "text": [
      "INFO:unityagents:\n",
      "'Academy' started successfully!\n",
      "Unity Academy name: Academy\n",
      "        Number of Brains: 1\n",
      "        Number of External Brains : 1\n",
      "        Lesson number : 0\n",
      "        Reset Parameters :\n",
      "\t\t\n",
      "Unity brain name: BananaBrain\n",
      "        Number of Visual Observations (per agent): 0\n",
      "        Vector Observation space type: continuous\n",
      "        Vector Observation space size (per agent): 37\n",
      "        Number of stacked Vector Observation: 1\n",
      "        Vector Action space type: discrete\n",
      "        Vector Action space size (per agent): 4\n",
      "        Vector Action descriptions: , , , \n"
     ]
    }
   ],
   "source": [
    "env = UnityEnvironment(file_name=\"./Data/Banana_Linux/Banana.x86_64\")"
   ]
  },
  {
   "cell_type": "markdown",
   "metadata": {},
   "source": [
    "Environments contain **_brains_** which are responsible for deciding the actions of their associated agents. Here we check for the first brain available, and set it as the default brain we will be controlling from Python."
   ]
  },
  {
   "cell_type": "code",
   "execution_count": 3,
   "metadata": {},
   "outputs": [],
   "source": [
    "# get the default brain\n",
    "brain_name = env.brain_names[0]\n",
    "brain = env.brains[brain_name]"
   ]
  },
  {
   "cell_type": "markdown",
   "metadata": {},
   "source": [
    "### 2. Examine the State and Action Spaces\n",
    "\n",
    "The simulation contains a single agent that navigates a large environment.  At each time step, it has four actions at its disposal:\n",
    "- `0` - walk forward \n",
    "- `1` - walk backward\n",
    "- `2` - turn left\n",
    "- `3` - turn right\n",
    "\n",
    "The state space has `37` dimensions and contains the agent's velocity, along with ray-based perception of objects around agent's forward direction.  A reward of `+1` is provided for collecting a yellow banana, and a reward of `-1` is provided for collecting a blue banana. \n",
    "\n",
    "Run the code cell below to print some information about the environment."
   ]
  },
  {
   "cell_type": "code",
   "execution_count": 4,
   "metadata": {},
   "outputs": [
    {
     "name": "stdout",
     "output_type": "stream",
     "text": [
      "Number of agents: 1\n",
      "Number of actions: 4\n",
      "States look like: [1.         0.         0.         0.         0.84408134 0.\n",
      " 0.         1.         0.         0.0748472  0.         1.\n",
      " 0.         0.         0.25755    1.         0.         0.\n",
      " 0.         0.74177343 0.         1.         0.         0.\n",
      " 0.25854847 0.         0.         1.         0.         0.09355672\n",
      " 0.         1.         0.         0.         0.31969345 0.\n",
      " 0.        ]\n",
      "States have length: 37\n"
     ]
    }
   ],
   "source": [
    "# reset the environment\n",
    "env_info = env.reset(train_mode=False)[brain_name]\n",
    "\n",
    "# number of agents in the environment\n",
    "print('Number of agents:', len(env_info.agents))\n",
    "\n",
    "# number of actions\n",
    "action_size = brain.vector_action_space_size\n",
    "print('Number of actions:', action_size)\n",
    "\n",
    "# examine the state space \n",
    "state = env_info.vector_observations[0]\n",
    "print('States look like:', state)\n",
    "state_size = len(state)\n",
    "print('States have length:', state_size)"
   ]
  },
  {
   "cell_type": "markdown",
   "metadata": {},
   "source": [
    "### 4. It's Your Turn!\n",
    "\n",
    "Now it's your turn to train your own agent to solve the environment!  When training the environment, set `train_mode=True`, so that the line for resetting the environment looks like the following:\n",
    "```python\n",
    "env_info = env.reset(train_mode=True)[brain_name]\n",
    "```"
   ]
  },
  {
   "cell_type": "code",
   "execution_count": 5,
   "metadata": {},
   "outputs": [],
   "source": [
    "from collections import deque\n",
    "from dqn_agent import Agent\n",
    "from model import QNetwork"
   ]
  },
  {
   "cell_type": "code",
   "execution_count": 6,
   "metadata": {},
   "outputs": [
    {
     "name": "stdout",
     "output_type": "stream",
     "text": [
      "Requirement already satisfied: wandb in /home/manu/.conda/envs/drlnd/lib/python3.6/site-packages (0.10.12)\n",
      "Requirement already satisfied: protobuf>=3.12.0 in /home/manu/.conda/envs/drlnd/lib/python3.6/site-packages (from wandb) (3.14.0)\n",
      "Requirement already satisfied: requests<3,>=2.0.0 in /home/manu/.conda/envs/drlnd/lib/python3.6/site-packages (from wandb) (2.25.1)\n",
      "Requirement already satisfied: sentry-sdk>=0.4.0 in /home/manu/.conda/envs/drlnd/lib/python3.6/site-packages (from wandb) (0.19.5)\n",
      "Requirement already satisfied: watchdog>=0.8.3 in /home/manu/.conda/envs/drlnd/lib/python3.6/site-packages (from wandb) (1.0.2)\n",
      "Requirement already satisfied: python-dateutil>=2.6.1 in /home/manu/.conda/envs/drlnd/lib/python3.6/site-packages (from wandb) (2.8.1)\n",
      "Requirement already satisfied: shortuuid>=0.5.0 in /home/manu/.conda/envs/drlnd/lib/python3.6/site-packages (from wandb) (1.0.1)\n",
      "Requirement already satisfied: GitPython>=1.0.0 in /home/manu/.conda/envs/drlnd/lib/python3.6/site-packages (from wandb) (3.1.11)\n",
      "Requirement already satisfied: promise<3,>=2.0 in /home/manu/.conda/envs/drlnd/lib/python3.6/site-packages (from wandb) (2.3)\n",
      "Requirement already satisfied: psutil>=5.0.0 in /home/manu/.conda/envs/drlnd/lib/python3.6/site-packages (from wandb) (5.8.0)\n",
      "Requirement already satisfied: subprocess32>=3.5.3 in /home/manu/.conda/envs/drlnd/lib/python3.6/site-packages (from wandb) (3.5.4)\n",
      "Requirement already satisfied: PyYAML in /home/manu/.conda/envs/drlnd/lib/python3.6/site-packages (from wandb) (5.3.1)\n",
      "Requirement already satisfied: Click>=7.0 in /home/manu/.conda/envs/drlnd/lib/python3.6/site-packages (from wandb) (7.1.2)\n",
      "Requirement already satisfied: docker-pycreds>=0.4.0 in /home/manu/.conda/envs/drlnd/lib/python3.6/site-packages (from wandb) (0.4.0)\n",
      "Requirement already satisfied: six>=1.13.0 in /home/manu/.conda/envs/drlnd/lib/python3.6/site-packages (from wandb) (1.15.0)\n",
      "Requirement already satisfied: configparser>=3.8.1 in /home/manu/.conda/envs/drlnd/lib/python3.6/site-packages (from wandb) (5.0.1)\n",
      "Requirement already satisfied: gitdb<5,>=4.0.1 in /home/manu/.conda/envs/drlnd/lib/python3.6/site-packages (from GitPython>=1.0.0->wandb) (4.0.5)\n",
      "Requirement already satisfied: smmap<4,>=3.0.1 in /home/manu/.conda/envs/drlnd/lib/python3.6/site-packages (from gitdb<5,>=4.0.1->GitPython>=1.0.0->wandb) (3.0.4)\n",
      "Requirement already satisfied: certifi>=2017.4.17 in /home/manu/.conda/envs/drlnd/lib/python3.6/site-packages (from requests<3,>=2.0.0->wandb) (2020.12.5)\n",
      "Requirement already satisfied: idna<3,>=2.5 in /home/manu/.conda/envs/drlnd/lib/python3.6/site-packages (from requests<3,>=2.0.0->wandb) (2.10)\n",
      "Requirement already satisfied: chardet<5,>=3.0.2 in /home/manu/.conda/envs/drlnd/lib/python3.6/site-packages (from requests<3,>=2.0.0->wandb) (4.0.0)\n",
      "Requirement already satisfied: urllib3<1.27,>=1.21.1 in /home/manu/.conda/envs/drlnd/lib/python3.6/site-packages (from requests<3,>=2.0.0->wandb) (1.26.2)\n",
      "Requirement already satisfied: jovian in /home/manu/.conda/envs/drlnd/lib/python3.6/site-packages (0.2.26)\n",
      "Requirement already satisfied: uuid in /home/manu/.conda/envs/drlnd/lib/python3.6/site-packages (from jovian) (1.30)\n",
      "Requirement already satisfied: pyyaml in /home/manu/.conda/envs/drlnd/lib/python3.6/site-packages (from jovian) (5.3.1)\n",
      "Requirement already satisfied: click in /home/manu/.conda/envs/drlnd/lib/python3.6/site-packages (from jovian) (7.1.2)\n",
      "Requirement already satisfied: requests in /home/manu/.conda/envs/drlnd/lib/python3.6/site-packages (from jovian) (2.25.1)\n",
      "Requirement already satisfied: chardet<5,>=3.0.2 in /home/manu/.conda/envs/drlnd/lib/python3.6/site-packages (from requests->jovian) (4.0.0)\n",
      "Requirement already satisfied: urllib3<1.27,>=1.21.1 in /home/manu/.conda/envs/drlnd/lib/python3.6/site-packages (from requests->jovian) (1.26.2)\n",
      "Requirement already satisfied: idna<3,>=2.5 in /home/manu/.conda/envs/drlnd/lib/python3.6/site-packages (from requests->jovian) (2.10)\n",
      "Requirement already satisfied: certifi>=2017.4.17 in /home/manu/.conda/envs/drlnd/lib/python3.6/site-packages (from requests->jovian) (2020.12.5)\n",
      "Requirement already satisfied: tqdm in /home/manu/.conda/envs/drlnd/lib/python3.6/site-packages (4.54.1)\n"
     ]
    }
   ],
   "source": [
    "# Tracking\n",
    "!pip install wandb\n",
    "!pip install jovian\n",
    "!pip install tqdm\n",
    "\n",
    "\n",
    "import wandb\n",
    "from tqdm import tqdm\n",
    "import jovian"
   ]
  },
  {
   "cell_type": "code",
   "execution_count": 7,
   "metadata": {},
   "outputs": [],
   "source": [
    "from time import time\n",
    "from functools import reduce\n",
    "\n",
    "def secondsToStr(t):\n",
    "    return \"%d:%02d:%02d.%03d\" % \\\n",
    "        reduce(lambda ll,b : divmod(ll[0],b) + ll[1:],\n",
    "            [(t*1000,),1000,60,60])"
   ]
  },
  {
   "cell_type": "code",
   "execution_count": 8,
   "metadata": {},
   "outputs": [],
   "source": [
    "def dqn(n_episodes=2000, max_t=1000, eps_start=1.0, eps_end=0.01, eps_decay=0.995):\n",
    "    \"\"\"Deep Q-Learning.\n",
    "    \n",
    "    Params\n",
    "    ======\n",
    "        n_episodes (int): maximum number of training episodes\n",
    "        max_t (int): maximum number of timesteps per epidodes\n",
    "        eps_start (float): starting value of epsilon, for epsilon_greedy action selection\n",
    "        eps_end (float): minimum value of epsilon\n",
    "        eps_decay (float): multiplicative factor (per episode) for decreasing epsilon\n",
    "    \"\"\"\n",
    "    tq = tqdm()\n",
    "    scores = []                              # list containing scores from each episode\n",
    "    scores_window = deque(maxlen=100)      # last 100 scores\n",
    "    eps = eps_start                          # initialize epsilon\n",
    "    t0 = time()\n",
    "    \n",
    "    for i_episode in range (1, n_episodes + 1):\n",
    "        tq.update(1)\n",
    "        tq.set_description(f\"Episode {i_episode}\")\n",
    "        env_info = env.reset(train_mode=True)[brain_name]\n",
    "        state = env_info.vector_observations[0]\n",
    "        score = 0\n",
    "\n",
    "        for t in range(max_t):\n",
    "            action = agent.act(state, eps)\n",
    "            env_info = env.step(action)[brain_name]\n",
    "            next_state = env_info.vector_observations[0]\n",
    "            reward = env_info.rewards[0]\n",
    "            done = env_info.local_done[0]\n",
    "            agent.step(state, action, reward, next_state, done)\n",
    "            state = next_state\n",
    "            score += reward\n",
    "            if done:\n",
    "                break\n",
    "        scores_window.append(score)            # save most recent score\n",
    "        scores.append(score)                   # save most recent score\n",
    "        eps = max(eps_end, eps_decay*eps)\n",
    "        wandb.log({'score': score,\n",
    "                   'average score': np.mean(scores_window),\n",
    "                   'epsilon': eps})\n",
    "        ##print(f'\\rEpisode {i_episode}\\tAverage Score: {np.mean(scores_window)}', end='')\n",
    "        tq.set_postfix({'score':np.mean(scores_window)}, refresh=True)\n",
    "        if i_episode % 100 == 0:\n",
    "            print(f'\\rEpisode {i_episode}\\tAverage Score: {np.mean(scores_window)}')\n",
    "        if np.mean(scores_window) >= 13.:\n",
    "            print(f'\\nEnvironment solved in {i_episode - 100} episodes!\\tAverage Score: {np.mean(scores_window)}')\n",
    "            torch.save(agent.qnetwork_local.state_dict(), 'checkpoint.pth')\n",
    "            jovian.log_metrics({\n",
    "                'average_score: ': np.mean(scores_window),\n",
    "                'total episode:': i_episode ,\n",
    "                'total time: ': secondsToStr(time() - t0)\n",
    "            })\n",
    "            jovian.commit(project=agent.get_project_name(), message=agent.get_model_name(), environment=None, \n",
    "                          files= [\"dqn_agent.py\", \"replaybuffer.py\", \"model.py\"], outputs=['checkpoint.pth'])\n",
    "            wandb.save(\"checkpoint.pth\")\n",
    "            break\n",
    "    return scores\n",
    "        "
   ]
  },
  {
   "cell_type": "code",
   "execution_count": 9,
   "metadata": {
    "scrolled": false
   },
   "outputs": [
    {
     "name": "stderr",
     "output_type": "stream",
     "text": [
      "\u001b[34m\u001b[1mwandb\u001b[0m: Currently logged in as: \u001b[33mbatmanu\u001b[0m (use `wandb login --relogin` to force relogin)\n"
     ]
    },
    {
     "data": {
      "text/html": [
       "\n",
       "                Tracking run with wandb version 0.10.12<br/>\n",
       "                Syncing run <strong style=\"color:#cdcd00\">Final run</strong> to <a href=\"https://wandb.ai\" target=\"_blank\">Weights & Biases</a> <a href=\"https://docs.wandb.com/integrations/jupyter.html\" target=\"_blank\">(Documentation)</a>.<br/>\n",
       "                Project page: <a href=\"https://wandb.ai/batmanu/udacity_banana-dqn\" target=\"_blank\">https://wandb.ai/batmanu/udacity_banana-dqn</a><br/>\n",
       "                Run page: <a href=\"https://wandb.ai/batmanu/udacity_banana-dqn/runs/2z5ocvcz\" target=\"_blank\">https://wandb.ai/batmanu/udacity_banana-dqn/runs/2z5ocvcz</a><br/>\n",
       "                Run data is saved locally in <code>/home/manu/udacity/deep-reinforcement-learning/p1_navigation/wandb/run-20201225_201442-2z5ocvcz</code><br/><br/>\n",
       "            "
      ],
      "text/plain": [
       "<IPython.core.display.HTML object>"
      ]
     },
     "metadata": {},
     "output_type": "display_data"
    },
    {
     "name": "stdout",
     "output_type": "stream",
     "text": [
      "[jovian] Hyperparams logged.\u001b[0m\n"
     ]
    },
    {
     "name": "stderr",
     "output_type": "stream",
     "text": [
      "Episode 101: : 101it [01:19,  1.29it/s, score=0.95] "
     ]
    },
    {
     "name": "stdout",
     "output_type": "stream",
     "text": [
      "\r",
      "Episode 100\tAverage Score: 0.95\n"
     ]
    },
    {
     "name": "stderr",
     "output_type": "stream",
     "text": [
      "Episode 201: : 201it [02:40,  1.39it/s, score=4.66]"
     ]
    },
    {
     "name": "stdout",
     "output_type": "stream",
     "text": [
      "\r",
      "Episode 200\tAverage Score: 4.66\n"
     ]
    },
    {
     "name": "stderr",
     "output_type": "stream",
     "text": [
      "Episode 301: : 301it [04:07,  1.63it/s, score=7.9] "
     ]
    },
    {
     "name": "stdout",
     "output_type": "stream",
     "text": [
      "\r",
      "Episode 300\tAverage Score: 7.9\n"
     ]
    },
    {
     "name": "stderr",
     "output_type": "stream",
     "text": [
      "Episode 401: : 401it [05:08,  1.60it/s, score=9.66]"
     ]
    },
    {
     "name": "stdout",
     "output_type": "stream",
     "text": [
      "\r",
      "Episode 400\tAverage Score: 9.66\n"
     ]
    },
    {
     "name": "stderr",
     "output_type": "stream",
     "text": [
      "Episode 501: : 501it [06:10,  1.55it/s, score=12.2]"
     ]
    },
    {
     "name": "stdout",
     "output_type": "stream",
     "text": [
      "\r",
      "Episode 500\tAverage Score: 12.16\n"
     ]
    },
    {
     "name": "stderr",
     "output_type": "stream",
     "text": [
      "Episode 598: : 598it [07:12,  1.59it/s, score=13]  "
     ]
    },
    {
     "name": "stdout",
     "output_type": "stream",
     "text": [
      "\n",
      "Environment solved in 498 episodes!\tAverage Score: 13.03\n",
      "[jovian] Metrics logged.\u001b[0m\n"
     ]
    },
    {
     "data": {
      "application/javascript": [
       "window.require && require([\"base/js/namespace\"],function(Jupyter){Jupyter.notebook.save_checkpoint()})"
      ],
      "text/plain": [
       "<IPython.core.display.Javascript object>"
      ]
     },
     "metadata": {},
     "output_type": "display_data"
    },
    {
     "name": "stdout",
     "output_type": "stream",
     "text": [
      "[jovian] Attempting to save notebook..\u001b[0m\n",
      "[jovian] Updating notebook \"manu-farcy/udacity-banana-dqn\" on https://jovian.ai/\u001b[0m\n",
      "[jovian] Uploading notebook..\u001b[0m\n",
      "[jovian] Uploading additional files...\u001b[0m\n",
      "[jovian] Uploading additional outputs...\u001b[0m\n",
      "[jovian] Attaching records (metrics, hyperparameters, dataset etc.)\u001b[0m\n",
      "[jovian] Committed successfully! https://jovian.ai/manu-farcy/udacity-banana-dqn\u001b[0m\n"
     ]
    }
   ],
   "source": [
    "agent = Agent(state_size=37, action_size=4, seed=42, model=QNetwork)\n",
    "scores = dqn()"
   ]
  },
  {
   "cell_type": "code",
   "execution_count": 10,
   "metadata": {},
   "outputs": [
    {
     "data": {
      "image/png": "[encoded data removed]",
      "text/plain": [
       "<Figure size 432x288 with 1 Axes>"
      ]
     },
     "metadata": {
      "needs_background": "light"
     },
     "output_type": "display_data"
    }
   ],
   "source": [
    "import matplotlib.pyplot as plt\n",
    "\n",
    "fig = plt.figure()\n",
    "ax = fig.add_subplot(111)\n",
    "plt.plot(np.arange(len(scores)), scores)\n",
    "plt.xlabel('Episode Number')\n",
    "plt.ylabel('Score')\n",
    "plt.show()\n"
   ]
  },
  {
   "cell_type": "code",
   "execution_count": 11,
   "metadata": {},
   "outputs": [
    {
     "name": "stdout",
     "output_type": "stream",
     "text": [
      "Score: 13.0\n"
     ]
    }
   ],
   "source": [
    "################################################################################\n",
    "##                                                                            ##\n",
    "##                    Test your network                                       ##\n",
    "##                                                                            ##\n",
    "################################################################################\n",
    "\n",
    "# Just run this if you want to train your own network\n",
    "\n",
    "import time\n",
    "\n",
    "time.sleep(5)\n",
    "\n",
    "env_info = env.reset(train_mode=False)[brain_name]               # Reset the Environment\n",
    "state = env_info.vector_observations[0]                          # First state\n",
    "score = 0                                                        # Score counter\n",
    "max_t = 1000                                                     # Max step\n",
    "eps = 0.2                                                        # Default espsilon, for little exploration\n",
    "step = 0                                                         # Step counter\n",
    "\n",
    "for t in range(max_t):\n",
    "    action = agent.act(state, eps)                                # Choose an action\n",
    "    env_info = env.step(action)[brain_name]                       # Done step\n",
    "    next_state = env_info.vector_observations[0]                  # Retrieve values from the previous step\n",
    "    reward = env_info.rewards[0]\n",
    "    done = env_info.local_done[0]\n",
    "    state = next_state\n",
    "    score += reward                                                # Add new reword\n",
    "    if done or step >= max_t:                                        # Stop if done or max step reach\n",
    "        break\n",
    "print(f\"Score: {score}\")"
   ]
  },
  {
   "cell_type": "code",
   "execution_count": 12,
   "metadata": {},
   "outputs": [],
   "source": [
    "env.close()"
   ]
  }
 ],
 "metadata": {
  "kernelspec": {
   "display_name": "drlnd",
   "language": "python",
   "name": "drlnd"
  },
  "language_info": {
   "codemirror_mode": {
    "name": "ipython",
    "version": 3
   },
   "file_extension": ".py",
   "mimetype": "text/x-python",
   "name": "python",
   "nbconvert_exporter": "python",
   "pygments_lexer": "ipython3",
   "version": "3.6.12"
  },
  "varInspector": {
   "cols": {
    "lenName": 16,
    "lenType": 16,
    "lenVar": 40
   },
   "kernels_config": {
    "python": {
     "delete_cmd_postfix": "",
     "delete_cmd_prefix": "del ",
     "library": "var_list.py",
     "varRefreshCmd": "print(var_dic_list())"
    },
    "r": {
     "delete_cmd_postfix": ") ",
     "delete_cmd_prefix": "rm(",
     "library": "var_list.r",
     "varRefreshCmd": "cat(var_dic_list()) "
    }
   },
   "position": {
    "height": "657px",
    "left": "531px",
    "right": "20px",
    "top": "204px",
    "width": "800px"
   },
   "types_to_exclude": [
    "module",
    "function",
    "builtin_function_or_method",
    "instance",
    "_Feature"
   ],
   "window_display": false
  }
 },
 "nbformat": 4,
 "nbformat_minor": 2
}
